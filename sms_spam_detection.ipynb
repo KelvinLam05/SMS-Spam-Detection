{
  "nbformat": 4,
  "nbformat_minor": 0,
  "metadata": {
    "colab": {
      "name": "sms_spam_detection.ipynb",
      "provenance": [],
      "collapsed_sections": [],
      "include_colab_link": true
    },
    "kernelspec": {
      "display_name": "Python 3",
      "language": "python",
      "name": "python3"
    },
    "language_info": {
      "codemirror_mode": {
        "name": "ipython",
        "version": 3
      },
      "file_extension": ".py",
      "mimetype": "text/x-python",
      "name": "python",
      "nbconvert_exporter": "python",
      "pygments_lexer": "ipython3",
      "version": "3.7.10"
    },
    "gpuClass": "standard",
    "accelerator": "GPU"
  },
  "cells": [
    {
      "cell_type": "markdown",
      "metadata": {
        "id": "view-in-github",
        "colab_type": "text"
      },
      "source": [
        "<a href=\"https://colab.research.google.com/github/KelvinLam05/sms_spam_detection/blob/main/sms_spam_detection.ipynb\" target=\"_parent\"><img src=\"https://colab.research.google.com/assets/colab-badge.svg\" alt=\"Open In Colab\"/></a>"
      ]
    },
    {
      "cell_type": "markdown",
      "source": [
        "**Goal of the project**"
      ],
      "metadata": {
        "id": "C6kTzh9TXOOs"
      }
    },
    {
      "cell_type": "markdown",
      "metadata": {
        "id": "oPrD60JGFxde"
      },
      "source": [
        "In this notebook, we will build a simple, fast, and accurate English-language text classification model with minimal effort. More specifically, we will build a model that classifies text messages as either spam or ham (legitimate)."
      ]
    },
    {
      "cell_type": "markdown",
      "source": [
        "**Load the packages**"
      ],
      "metadata": {
        "id": "K91RK3qZY6sR"
      }
    },
    {
      "cell_type": "code",
      "metadata": {
        "id": "cgKGymYmkfn6"
      },
      "source": [
        "# Importing libraries\n",
        "import pandas as pd\n",
        "import numpy as np\n",
        "import ktrain\n",
        "import tensorflow as tf\n",
        "from ktrain import text\n",
        "from sklearn.model_selection import train_test_split"
      ],
      "execution_count": 138,
      "outputs": []
    },
    {
      "cell_type": "markdown",
      "source": [
        "**Load the data**"
      ],
      "metadata": {
        "id": "jankHORFY_av"
      }
    },
    {
      "cell_type": "markdown",
      "source": [
        "For this project I’ve used the [SMS Spam Collection](https://www.kaggle.com/datasets/uciml/sms-spam-collection-dataset) dataset from Kaggle. This is a public set of SMS labeled messages that have been collected for mobile phone spam research."
      ],
      "metadata": {
        "id": "smBzAi031VKq"
      }
    },
    {
      "cell_type": "code",
      "metadata": {
        "id": "QsdinknLvooO"
      },
      "source": [
        "# Load dataset\n",
        "df = pd.read_csv('/content/sms_spam_collection.csv', encoding = 'latin-1')"
      ],
      "execution_count": 139,
      "outputs": []
    },
    {
      "cell_type": "code",
      "source": [
        "df = df.dropna(how = 'any', axis = 1)"
      ],
      "metadata": {
        "id": "SNPJT91mwkbo"
      },
      "execution_count": 140,
      "outputs": []
    },
    {
      "cell_type": "code",
      "source": [
        "df.columns = ['label', 'message']"
      ],
      "metadata": {
        "id": "lHMRjyoZwVcx"
      },
      "execution_count": 141,
      "outputs": []
    },
    {
      "cell_type": "code",
      "metadata": {
        "id": "9VwzB6pHBYfA"
      },
      "source": [
        "# Change the data frame's column names to lower case\n",
        "df.columns= df.columns.str.lower()"
      ],
      "execution_count": 142,
      "outputs": []
    },
    {
      "cell_type": "code",
      "metadata": {
        "colab": {
          "base_uri": "https://localhost:8080/",
          "height": 204
        },
        "id": "DP1E6cH-w48j",
        "outputId": "19b1f488-e873-4ee8-ffd3-dd44d8f3fb78"
      },
      "source": [
        "# Examine the data\n",
        "df.head()"
      ],
      "execution_count": 143,
      "outputs": [
        {
          "output_type": "execute_result",
          "data": {
            "text/plain": [
              "  label                                            message\n",
              "0   ham  Go until jurong point, crazy.. Available only ...\n",
              "1   ham                      Ok lar... Joking wif u oni...\n",
              "2  spam  Free entry in 2 a wkly comp to win FA Cup fina...\n",
              "3   ham  U dun say so early hor... U c already then say...\n",
              "4   ham  Nah I don't think he goes to usf, he lives aro..."
            ],
            "text/html": [
              "\n",
              "  <div id=\"df-2da113c5-0ed0-469d-96c6-bac1f5712554\">\n",
              "    <div class=\"colab-df-container\">\n",
              "      <div>\n",
              "<style scoped>\n",
              "    .dataframe tbody tr th:only-of-type {\n",
              "        vertical-align: middle;\n",
              "    }\n",
              "\n",
              "    .dataframe tbody tr th {\n",
              "        vertical-align: top;\n",
              "    }\n",
              "\n",
              "    .dataframe thead th {\n",
              "        text-align: right;\n",
              "    }\n",
              "</style>\n",
              "<table border=\"1\" class=\"dataframe\">\n",
              "  <thead>\n",
              "    <tr style=\"text-align: right;\">\n",
              "      <th></th>\n",
              "      <th>label</th>\n",
              "      <th>message</th>\n",
              "    </tr>\n",
              "  </thead>\n",
              "  <tbody>\n",
              "    <tr>\n",
              "      <th>0</th>\n",
              "      <td>ham</td>\n",
              "      <td>Go until jurong point, crazy.. Available only ...</td>\n",
              "    </tr>\n",
              "    <tr>\n",
              "      <th>1</th>\n",
              "      <td>ham</td>\n",
              "      <td>Ok lar... Joking wif u oni...</td>\n",
              "    </tr>\n",
              "    <tr>\n",
              "      <th>2</th>\n",
              "      <td>spam</td>\n",
              "      <td>Free entry in 2 a wkly comp to win FA Cup fina...</td>\n",
              "    </tr>\n",
              "    <tr>\n",
              "      <th>3</th>\n",
              "      <td>ham</td>\n",
              "      <td>U dun say so early hor... U c already then say...</td>\n",
              "    </tr>\n",
              "    <tr>\n",
              "      <th>4</th>\n",
              "      <td>ham</td>\n",
              "      <td>Nah I don't think he goes to usf, he lives aro...</td>\n",
              "    </tr>\n",
              "  </tbody>\n",
              "</table>\n",
              "</div>\n",
              "      <button class=\"colab-df-convert\" onclick=\"convertToInteractive('df-2da113c5-0ed0-469d-96c6-bac1f5712554')\"\n",
              "              title=\"Convert this dataframe to an interactive table.\"\n",
              "              style=\"display:none;\">\n",
              "        \n",
              "  <svg xmlns=\"http://www.w3.org/2000/svg\" height=\"24px\"viewBox=\"0 0 24 24\"\n",
              "       width=\"24px\">\n",
              "    <path d=\"M0 0h24v24H0V0z\" fill=\"none\"/>\n",
              "    <path d=\"M18.56 5.44l.94 2.06.94-2.06 2.06-.94-2.06-.94-.94-2.06-.94 2.06-2.06.94zm-11 1L8.5 8.5l.94-2.06 2.06-.94-2.06-.94L8.5 2.5l-.94 2.06-2.06.94zm10 10l.94 2.06.94-2.06 2.06-.94-2.06-.94-.94-2.06-.94 2.06-2.06.94z\"/><path d=\"M17.41 7.96l-1.37-1.37c-.4-.4-.92-.59-1.43-.59-.52 0-1.04.2-1.43.59L10.3 9.45l-7.72 7.72c-.78.78-.78 2.05 0 2.83L4 21.41c.39.39.9.59 1.41.59.51 0 1.02-.2 1.41-.59l7.78-7.78 2.81-2.81c.8-.78.8-2.07 0-2.86zM5.41 20L4 18.59l7.72-7.72 1.47 1.35L5.41 20z\"/>\n",
              "  </svg>\n",
              "      </button>\n",
              "      \n",
              "  <style>\n",
              "    .colab-df-container {\n",
              "      display:flex;\n",
              "      flex-wrap:wrap;\n",
              "      gap: 12px;\n",
              "    }\n",
              "\n",
              "    .colab-df-convert {\n",
              "      background-color: #E8F0FE;\n",
              "      border: none;\n",
              "      border-radius: 50%;\n",
              "      cursor: pointer;\n",
              "      display: none;\n",
              "      fill: #1967D2;\n",
              "      height: 32px;\n",
              "      padding: 0 0 0 0;\n",
              "      width: 32px;\n",
              "    }\n",
              "\n",
              "    .colab-df-convert:hover {\n",
              "      background-color: #E2EBFA;\n",
              "      box-shadow: 0px 1px 2px rgba(60, 64, 67, 0.3), 0px 1px 3px 1px rgba(60, 64, 67, 0.15);\n",
              "      fill: #174EA6;\n",
              "    }\n",
              "\n",
              "    [theme=dark] .colab-df-convert {\n",
              "      background-color: #3B4455;\n",
              "      fill: #D2E3FC;\n",
              "    }\n",
              "\n",
              "    [theme=dark] .colab-df-convert:hover {\n",
              "      background-color: #434B5C;\n",
              "      box-shadow: 0px 1px 3px 1px rgba(0, 0, 0, 0.15);\n",
              "      filter: drop-shadow(0px 1px 2px rgba(0, 0, 0, 0.3));\n",
              "      fill: #FFFFFF;\n",
              "    }\n",
              "  </style>\n",
              "\n",
              "      <script>\n",
              "        const buttonEl =\n",
              "          document.querySelector('#df-2da113c5-0ed0-469d-96c6-bac1f5712554 button.colab-df-convert');\n",
              "        buttonEl.style.display =\n",
              "          google.colab.kernel.accessAllowed ? 'block' : 'none';\n",
              "\n",
              "        async function convertToInteractive(key) {\n",
              "          const element = document.querySelector('#df-2da113c5-0ed0-469d-96c6-bac1f5712554');\n",
              "          const dataTable =\n",
              "            await google.colab.kernel.invokeFunction('convertToInteractive',\n",
              "                                                     [key], {});\n",
              "          if (!dataTable) return;\n",
              "\n",
              "          const docLinkHtml = 'Like what you see? Visit the ' +\n",
              "            '<a target=\"_blank\" href=https://colab.research.google.com/notebooks/data_table.ipynb>data table notebook</a>'\n",
              "            + ' to learn more about interactive tables.';\n",
              "          element.innerHTML = '';\n",
              "          dataTable['output_type'] = 'display_data';\n",
              "          await google.colab.output.renderOutput(dataTable, element);\n",
              "          const docLink = document.createElement('div');\n",
              "          docLink.innerHTML = docLinkHtml;\n",
              "          element.appendChild(docLink);\n",
              "        }\n",
              "      </script>\n",
              "    </div>\n",
              "  </div>\n",
              "  "
            ]
          },
          "metadata": {},
          "execution_count": 143
        }
      ]
    },
    {
      "cell_type": "code",
      "metadata": {
        "colab": {
          "base_uri": "https://localhost:8080/"
        },
        "id": "rtyTVl7fxUo9",
        "outputId": "77e0cad8-4faa-490a-c0aa-e9bbb87f849f"
      },
      "source": [
        "# Overview of all variables, their datatypes\n",
        "df.info()"
      ],
      "execution_count": 144,
      "outputs": [
        {
          "output_type": "stream",
          "name": "stdout",
          "text": [
            "<class 'pandas.core.frame.DataFrame'>\n",
            "RangeIndex: 5572 entries, 0 to 5571\n",
            "Data columns (total 2 columns):\n",
            " #   Column   Non-Null Count  Dtype \n",
            "---  ------   --------------  ----- \n",
            " 0   label    5572 non-null   object\n",
            " 1   message  5572 non-null   object\n",
            "dtypes: object(2)\n",
            "memory usage: 87.2+ KB\n"
          ]
        }
      ]
    },
    {
      "cell_type": "markdown",
      "metadata": {
        "id": "zjpV-sy6D1Eb"
      },
      "source": [
        "**Check for missing values**"
      ]
    },
    {
      "cell_type": "markdown",
      "source": [
        "Before moving on, we will check to see if there are any null values to impute. However, the data were all fine, so there was nothing to do."
      ],
      "metadata": {
        "id": "ziOg49wsZ7vj"
      }
    },
    {
      "cell_type": "code",
      "metadata": {
        "colab": {
          "base_uri": "https://localhost:8080/"
        },
        "id": "kgIRHCpKzfTl",
        "outputId": "ca2671ca-ef9d-478c-9731-13d93fc39aba"
      },
      "source": [
        "df.isnull().sum().sort_values(ascending = False)"
      ],
      "execution_count": 145,
      "outputs": [
        {
          "output_type": "execute_result",
          "data": {
            "text/plain": [
              "label      0\n",
              "message    0\n",
              "dtype: int64"
            ]
          },
          "metadata": {},
          "execution_count": 145
        }
      ]
    },
    {
      "cell_type": "markdown",
      "source": [
        "**Examine the data**"
      ],
      "metadata": {
        "id": "KoFv9x8HbVuL"
      }
    },
    {
      "cell_type": "markdown",
      "source": [
        "By running value_counts( ) on the label column containing our target variable, we can see that the data are imbalanced."
      ],
      "metadata": {
        "id": "K7ILZnHlbdgh"
      }
    },
    {
      "cell_type": "code",
      "metadata": {
        "colab": {
          "base_uri": "https://localhost:8080/"
        },
        "id": "OvUESewGw6zy",
        "outputId": "4686504e-03f8-4d53-9eaa-744c2b8f5c87"
      },
      "source": [
        "round(df['label'].value_counts(normalize = True) * 100)"
      ],
      "execution_count": 146,
      "outputs": [
        {
          "output_type": "execute_result",
          "data": {
            "text/plain": [
              "ham     87.0\n",
              "spam    13.0\n",
              "Name: label, dtype: float64"
            ]
          },
          "metadata": {},
          "execution_count": 146
        }
      ]
    },
    {
      "cell_type": "markdown",
      "metadata": {
        "id": "DQ2HTlJc2QH-"
      },
      "source": [
        "**SMS message length**"
      ]
    },
    {
      "cell_type": "markdown",
      "metadata": {
        "id": "DF3X5TV09ek-"
      },
      "source": [
        "Let's make a new column to detect how long the text messages are:"
      ]
    },
    {
      "cell_type": "code",
      "metadata": {
        "id": "wMCqCioEfuAH"
      },
      "source": [
        "df['message_length'] = df['message'].apply(lambda x: len(x))"
      ],
      "execution_count": 147,
      "outputs": []
    },
    {
      "cell_type": "code",
      "metadata": {
        "colab": {
          "base_uri": "https://localhost:8080/"
        },
        "id": "wwYoH4Wdf8IS",
        "outputId": "e332f2d6-f66b-4d60-cd3c-91b2f43ad80b"
      },
      "source": [
        "df['message_length'].describe()"
      ],
      "execution_count": 148,
      "outputs": [
        {
          "output_type": "execute_result",
          "data": {
            "text/plain": [
              "count    5572.000000\n",
              "mean       80.118808\n",
              "std        59.690841\n",
              "min         2.000000\n",
              "25%        36.000000\n",
              "50%        61.000000\n",
              "75%       121.000000\n",
              "max       910.000000\n",
              "Name: message_length, dtype: float64"
            ]
          },
          "metadata": {},
          "execution_count": 148
        }
      ]
    },
    {
      "cell_type": "markdown",
      "metadata": {
        "id": "xQlUtmvDB4ND"
      },
      "source": [
        "The maximum length of a text message is 910 characters. "
      ]
    },
    {
      "cell_type": "markdown",
      "metadata": {
        "id": "qYO-Ur8OD1Ek"
      },
      "source": [
        "**Split the train and test data**"
      ]
    },
    {
      "cell_type": "code",
      "metadata": {
        "id": "M1UUOR2J03t3"
      },
      "source": [
        "X = df.drop(['label'], axis = 1)"
      ],
      "execution_count": 149,
      "outputs": []
    },
    {
      "cell_type": "code",
      "metadata": {
        "id": "4QG-K1qh1aHD"
      },
      "source": [
        "y = df['label']"
      ],
      "execution_count": 150,
      "outputs": []
    },
    {
      "cell_type": "code",
      "metadata": {
        "id": "ArMhj_u51l6E"
      },
      "source": [
        "# Stratified sampling based on the distribution of the target vector, y\n",
        "X_train, X_test, y_train, y_test = train_test_split(X, y, test_size = 0.2, random_state = 42, shuffle = True, stratify = y)"
      ],
      "execution_count": 151,
      "outputs": []
    },
    {
      "cell_type": "markdown",
      "metadata": {
        "id": "NRB2OHeRAp8f"
      },
      "source": [
        "**Encode target labels**"
      ]
    },
    {
      "cell_type": "code",
      "metadata": {
        "id": "xL3S-4MZEaGy"
      },
      "source": [
        "from sklearn.preprocessing import LabelEncoder"
      ],
      "execution_count": 152,
      "outputs": []
    },
    {
      "cell_type": "code",
      "metadata": {
        "id": "uwIF81dUUXgJ"
      },
      "source": [
        "le = LabelEncoder()"
      ],
      "execution_count": 153,
      "outputs": []
    },
    {
      "cell_type": "code",
      "metadata": {
        "id": "bwLht09wUaSC"
      },
      "source": [
        "y_train_enc = y_train.copy()"
      ],
      "execution_count": 154,
      "outputs": []
    },
    {
      "cell_type": "code",
      "metadata": {
        "id": "ASwcjO98UdgD"
      },
      "source": [
        "y_train_enc = pd.DataFrame(data = y_train_enc, columns = ['label'])"
      ],
      "execution_count": 155,
      "outputs": []
    },
    {
      "cell_type": "code",
      "metadata": {
        "id": "vP9kRhxXUk5c"
      },
      "source": [
        "y_train_enc['label_encoded'] = le.fit_transform(y_train_enc['label'].values)"
      ],
      "execution_count": 156,
      "outputs": []
    },
    {
      "cell_type": "code",
      "metadata": {
        "colab": {
          "base_uri": "https://localhost:8080/",
          "height": 419
        },
        "id": "z6rFpDHXUuB4",
        "outputId": "bc7a53d9-e9b4-483c-8598-3868237e7ec2"
      },
      "source": [
        "y_train_enc"
      ],
      "execution_count": 157,
      "outputs": [
        {
          "output_type": "execute_result",
          "data": {
            "text/plain": [
              "     label  label_encoded\n",
              "184    ham              0\n",
              "2171   ham              0\n",
              "5422   ham              0\n",
              "4113   ham              0\n",
              "4588   ham              0\n",
              "...    ...            ...\n",
              "1932   ham              0\n",
              "5316   ham              0\n",
              "2308  spam              1\n",
              "1903  spam              1\n",
              "763    ham              0\n",
              "\n",
              "[4457 rows x 2 columns]"
            ],
            "text/html": [
              "\n",
              "  <div id=\"df-0365965f-2148-4963-8b2f-dee693fa6afd\">\n",
              "    <div class=\"colab-df-container\">\n",
              "      <div>\n",
              "<style scoped>\n",
              "    .dataframe tbody tr th:only-of-type {\n",
              "        vertical-align: middle;\n",
              "    }\n",
              "\n",
              "    .dataframe tbody tr th {\n",
              "        vertical-align: top;\n",
              "    }\n",
              "\n",
              "    .dataframe thead th {\n",
              "        text-align: right;\n",
              "    }\n",
              "</style>\n",
              "<table border=\"1\" class=\"dataframe\">\n",
              "  <thead>\n",
              "    <tr style=\"text-align: right;\">\n",
              "      <th></th>\n",
              "      <th>label</th>\n",
              "      <th>label_encoded</th>\n",
              "    </tr>\n",
              "  </thead>\n",
              "  <tbody>\n",
              "    <tr>\n",
              "      <th>184</th>\n",
              "      <td>ham</td>\n",
              "      <td>0</td>\n",
              "    </tr>\n",
              "    <tr>\n",
              "      <th>2171</th>\n",
              "      <td>ham</td>\n",
              "      <td>0</td>\n",
              "    </tr>\n",
              "    <tr>\n",
              "      <th>5422</th>\n",
              "      <td>ham</td>\n",
              "      <td>0</td>\n",
              "    </tr>\n",
              "    <tr>\n",
              "      <th>4113</th>\n",
              "      <td>ham</td>\n",
              "      <td>0</td>\n",
              "    </tr>\n",
              "    <tr>\n",
              "      <th>4588</th>\n",
              "      <td>ham</td>\n",
              "      <td>0</td>\n",
              "    </tr>\n",
              "    <tr>\n",
              "      <th>...</th>\n",
              "      <td>...</td>\n",
              "      <td>...</td>\n",
              "    </tr>\n",
              "    <tr>\n",
              "      <th>1932</th>\n",
              "      <td>ham</td>\n",
              "      <td>0</td>\n",
              "    </tr>\n",
              "    <tr>\n",
              "      <th>5316</th>\n",
              "      <td>ham</td>\n",
              "      <td>0</td>\n",
              "    </tr>\n",
              "    <tr>\n",
              "      <th>2308</th>\n",
              "      <td>spam</td>\n",
              "      <td>1</td>\n",
              "    </tr>\n",
              "    <tr>\n",
              "      <th>1903</th>\n",
              "      <td>spam</td>\n",
              "      <td>1</td>\n",
              "    </tr>\n",
              "    <tr>\n",
              "      <th>763</th>\n",
              "      <td>ham</td>\n",
              "      <td>0</td>\n",
              "    </tr>\n",
              "  </tbody>\n",
              "</table>\n",
              "<p>4457 rows × 2 columns</p>\n",
              "</div>\n",
              "      <button class=\"colab-df-convert\" onclick=\"convertToInteractive('df-0365965f-2148-4963-8b2f-dee693fa6afd')\"\n",
              "              title=\"Convert this dataframe to an interactive table.\"\n",
              "              style=\"display:none;\">\n",
              "        \n",
              "  <svg xmlns=\"http://www.w3.org/2000/svg\" height=\"24px\"viewBox=\"0 0 24 24\"\n",
              "       width=\"24px\">\n",
              "    <path d=\"M0 0h24v24H0V0z\" fill=\"none\"/>\n",
              "    <path d=\"M18.56 5.44l.94 2.06.94-2.06 2.06-.94-2.06-.94-.94-2.06-.94 2.06-2.06.94zm-11 1L8.5 8.5l.94-2.06 2.06-.94-2.06-.94L8.5 2.5l-.94 2.06-2.06.94zm10 10l.94 2.06.94-2.06 2.06-.94-2.06-.94-.94-2.06-.94 2.06-2.06.94z\"/><path d=\"M17.41 7.96l-1.37-1.37c-.4-.4-.92-.59-1.43-.59-.52 0-1.04.2-1.43.59L10.3 9.45l-7.72 7.72c-.78.78-.78 2.05 0 2.83L4 21.41c.39.39.9.59 1.41.59.51 0 1.02-.2 1.41-.59l7.78-7.78 2.81-2.81c.8-.78.8-2.07 0-2.86zM5.41 20L4 18.59l7.72-7.72 1.47 1.35L5.41 20z\"/>\n",
              "  </svg>\n",
              "      </button>\n",
              "      \n",
              "  <style>\n",
              "    .colab-df-container {\n",
              "      display:flex;\n",
              "      flex-wrap:wrap;\n",
              "      gap: 12px;\n",
              "    }\n",
              "\n",
              "    .colab-df-convert {\n",
              "      background-color: #E8F0FE;\n",
              "      border: none;\n",
              "      border-radius: 50%;\n",
              "      cursor: pointer;\n",
              "      display: none;\n",
              "      fill: #1967D2;\n",
              "      height: 32px;\n",
              "      padding: 0 0 0 0;\n",
              "      width: 32px;\n",
              "    }\n",
              "\n",
              "    .colab-df-convert:hover {\n",
              "      background-color: #E2EBFA;\n",
              "      box-shadow: 0px 1px 2px rgba(60, 64, 67, 0.3), 0px 1px 3px 1px rgba(60, 64, 67, 0.15);\n",
              "      fill: #174EA6;\n",
              "    }\n",
              "\n",
              "    [theme=dark] .colab-df-convert {\n",
              "      background-color: #3B4455;\n",
              "      fill: #D2E3FC;\n",
              "    }\n",
              "\n",
              "    [theme=dark] .colab-df-convert:hover {\n",
              "      background-color: #434B5C;\n",
              "      box-shadow: 0px 1px 3px 1px rgba(0, 0, 0, 0.15);\n",
              "      filter: drop-shadow(0px 1px 2px rgba(0, 0, 0, 0.3));\n",
              "      fill: #FFFFFF;\n",
              "    }\n",
              "  </style>\n",
              "\n",
              "      <script>\n",
              "        const buttonEl =\n",
              "          document.querySelector('#df-0365965f-2148-4963-8b2f-dee693fa6afd button.colab-df-convert');\n",
              "        buttonEl.style.display =\n",
              "          google.colab.kernel.accessAllowed ? 'block' : 'none';\n",
              "\n",
              "        async function convertToInteractive(key) {\n",
              "          const element = document.querySelector('#df-0365965f-2148-4963-8b2f-dee693fa6afd');\n",
              "          const dataTable =\n",
              "            await google.colab.kernel.invokeFunction('convertToInteractive',\n",
              "                                                     [key], {});\n",
              "          if (!dataTable) return;\n",
              "\n",
              "          const docLinkHtml = 'Like what you see? Visit the ' +\n",
              "            '<a target=\"_blank\" href=https://colab.research.google.com/notebooks/data_table.ipynb>data table notebook</a>'\n",
              "            + ' to learn more about interactive tables.';\n",
              "          element.innerHTML = '';\n",
              "          dataTable['output_type'] = 'display_data';\n",
              "          await google.colab.output.renderOutput(dataTable, element);\n",
              "          const docLink = document.createElement('div');\n",
              "          docLink.innerHTML = docLinkHtml;\n",
              "          element.appendChild(docLink);\n",
              "        }\n",
              "      </script>\n",
              "    </div>\n",
              "  </div>\n",
              "  "
            ]
          },
          "metadata": {},
          "execution_count": 157
        }
      ]
    },
    {
      "cell_type": "code",
      "metadata": {
        "id": "dvqEiVfYU4c1"
      },
      "source": [
        "# Label encode the target variable \n",
        "le.fit(y_train)\n",
        "y_train = le.transform(y_train)\n",
        "y_test = le.transform(y_test)"
      ],
      "execution_count": 158,
      "outputs": []
    },
    {
      "cell_type": "markdown",
      "metadata": {
        "id": "kVTE1DBgD1En"
      },
      "source": [
        "**Preprocess data and build a transformer model**"
      ]
    },
    {
      "cell_type": "markdown",
      "metadata": {
        "id": "OLFD83wupUvi"
      },
      "source": [
        "With the Transformer API in ktrain, we can select any Hugging Face transformers model appropriate for our data. Since we are dealing with SMS spam, we will use smaller BERT by the author mrm8488.\n"
      ]
    },
    {
      "cell_type": "code",
      "metadata": {
        "id": "G327Kf0F6Tfo"
      },
      "source": [
        "# Transformer model\n",
        "MODEL_NAME = 'mrm8488/bert-tiny-finetuned-sms-spam-detection' "
      ],
      "execution_count": 159,
      "outputs": []
    },
    {
      "cell_type": "markdown",
      "metadata": {
        "id": "V8GHT3aOoG8H"
      },
      "source": [
        "We must supply a class_names argument to the Transformer constructor, which tells ktrain how indices map to class names. In this case, class_names = ['Non-spam', 'Spam'] because 0 = Non-spam, 1 = Spam."
      ]
    },
    {
      "cell_type": "code",
      "metadata": {
        "id": "DP0ZFUts6uGT"
      },
      "source": [
        "t = text.Transformer(MODEL_NAME, maxlen = 512, class_names = ['ham', 'spam'])"
      ],
      "execution_count": 160,
      "outputs": []
    },
    {
      "cell_type": "code",
      "metadata": {
        "id": "75vhWK2HBM-v"
      },
      "source": [
        "# Convert training set into a list\n",
        "X_tr = pd.DataFrame(data = X_train, columns = ['message'])\n",
        "X_tr = X_tr['message'].tolist()"
      ],
      "execution_count": 161,
      "outputs": []
    },
    {
      "cell_type": "code",
      "metadata": {
        "id": "s8ZYvUwDA4P_"
      },
      "source": [
        "y_tr = pd.DataFrame(data = y_train, columns = ['label'])\n",
        "y_tr = y_tr['label'].tolist()"
      ],
      "execution_count": 162,
      "outputs": []
    },
    {
      "cell_type": "code",
      "metadata": {
        "id": "IxN_Xif4BUME"
      },
      "source": [
        "# Convert testing set into a list\n",
        "X_te = pd.DataFrame(data = X_test, columns = ['message'])\n",
        "X_te = X_te['message'].tolist()"
      ],
      "execution_count": 163,
      "outputs": []
    },
    {
      "cell_type": "code",
      "metadata": {
        "id": "699H2SeQB1C_"
      },
      "source": [
        "y_te = pd.DataFrame(data = y_test, columns = ['label'])\n",
        "y_te = y_te['label'].tolist()"
      ],
      "execution_count": 164,
      "outputs": []
    },
    {
      "cell_type": "code",
      "metadata": {
        "colab": {
          "base_uri": "https://localhost:8080/",
          "height": 238
        },
        "id": "0_6OWVR18tm_",
        "outputId": "8b0871e1-1110-425a-ea94-9c9629165d77"
      },
      "source": [
        "# Preprocessing training and testing set \n",
        "trn = t.preprocess_train(X_tr, y_tr)\n",
        "val = t.preprocess_test(X_te, y_te)"
      ],
      "execution_count": 165,
      "outputs": [
        {
          "output_type": "stream",
          "name": "stdout",
          "text": [
            "preprocessing train...\n",
            "language: en\n",
            "train sequence lengths:\n",
            "\tmean : 15\n",
            "\t95percentile : 33\n",
            "\t99percentile : 52\n"
          ]
        },
        {
          "output_type": "display_data",
          "data": {
            "text/plain": [
              "<IPython.core.display.HTML object>"
            ],
            "text/html": [
              "\n",
              "<style>\n",
              "    /* Turns off some styling */\n",
              "    progress {\n",
              "        /* gets rid of default border in Firefox and Opera. */\n",
              "        border: none;\n",
              "        /* Needs to be in here for Safari polyfill so background images work as expected. */\n",
              "        background-size: auto;\n",
              "    }\n",
              "    .progress-bar-interrupted, .progress-bar-interrupted::-webkit-progress-bar {\n",
              "        background: #F44336;\n",
              "    }\n",
              "</style>\n"
            ]
          },
          "metadata": {}
        },
        {
          "output_type": "display_data",
          "data": {
            "text/plain": [
              "<IPython.core.display.HTML object>"
            ],
            "text/html": [
              ""
            ]
          },
          "metadata": {}
        },
        {
          "output_type": "stream",
          "name": "stdout",
          "text": [
            "Is Multi-Label? False\n",
            "preprocessing test...\n",
            "language: en\n",
            "test sequence lengths:\n",
            "\tmean : 16\n",
            "\t95percentile : 33\n",
            "\t99percentile : 56\n"
          ]
        },
        {
          "output_type": "display_data",
          "data": {
            "text/plain": [
              "<IPython.core.display.HTML object>"
            ],
            "text/html": [
              "\n",
              "<style>\n",
              "    /* Turns off some styling */\n",
              "    progress {\n",
              "        /* gets rid of default border in Firefox and Opera. */\n",
              "        border: none;\n",
              "        /* Needs to be in here for Safari polyfill so background images work as expected. */\n",
              "        background-size: auto;\n",
              "    }\n",
              "    .progress-bar-interrupted, .progress-bar-interrupted::-webkit-progress-bar {\n",
              "        background: #F44336;\n",
              "    }\n",
              "</style>\n"
            ]
          },
          "metadata": {}
        },
        {
          "output_type": "display_data",
          "data": {
            "text/plain": [
              "<IPython.core.display.HTML object>"
            ],
            "text/html": [
              ""
            ]
          },
          "metadata": {}
        }
      ]
    },
    {
      "cell_type": "code",
      "metadata": {
        "id": "oQc2kNdTCXyq"
      },
      "source": [
        "model = t.get_classifier()"
      ],
      "execution_count": null,
      "outputs": []
    },
    {
      "cell_type": "code",
      "metadata": {
        "id": "mbgyV06-ChOl"
      },
      "source": [
        "# Wrap model and data in ktrain.Learner object\n",
        "learner = ktrain.get_learner(model, train_data = trn, val_data = val, batch_size = 6)"
      ],
      "execution_count": 167,
      "outputs": []
    },
    {
      "cell_type": "markdown",
      "metadata": {
        "id": "vB6pQYl7zweQ"
      },
      "source": [
        "**Estimate a good learning rate**"
      ]
    },
    {
      "cell_type": "markdown",
      "metadata": {
        "id": "YuuHhiyN9Sg-"
      },
      "source": [
        "To train the model, we will first find the optimal learning rate that suits well to our problem. ktrain provides a very good method named lr_find which trains the model at different learning rates and plots loss of the model as the learning rate is increased."
      ]
    },
    {
      "cell_type": "code",
      "metadata": {
        "id": "Tx_I77721Hp0",
        "colab": {
          "base_uri": "https://localhost:8080/"
        },
        "outputId": "9f8f182f-2511-4972-f1d4-0842bb894cec"
      },
      "source": [
        "# Briefly simulate training to find good learning rate\n",
        "learner.lr_find(max_epochs = 3) "
      ],
      "execution_count": 168,
      "outputs": [
        {
          "output_type": "stream",
          "name": "stdout",
          "text": [
            "simulating training for different learning rates... this may take a few moments...\n",
            "Epoch 1/3\n",
            "742/742 [==============================] - 21s 22ms/step - loss: 0.1022 - accuracy: 0.9836\n",
            "Epoch 2/3\n",
            "742/742 [==============================] - 18s 24ms/step - loss: 0.2226 - accuracy: 0.9351\n",
            "Epoch 3/3\n",
            "742/742 [==============================] - 1s 1ms/step - loss: 0.7436 - accuracy: 0.7385\n",
            "\n",
            "\n",
            "done.\n",
            "Please invoke the Learner.lr_plot() method to visually inspect the loss plot to help identify the maximal learning rate associated with falling loss.\n"
          ]
        }
      ]
    },
    {
      "cell_type": "markdown",
      "metadata": {
        "id": "3ZS873v69YnG"
      },
      "source": [
        "The learning rate plot can be observed by calling the following method:"
      ]
    },
    {
      "cell_type": "code",
      "metadata": {
        "id": "77isXmb_UrJC",
        "colab": {
          "base_uri": "https://localhost:8080/",
          "height": 351
        },
        "outputId": "e0371448-1f44-47d0-de70-d331c8265e86"
      },
      "source": [
        "# Visually identify best learning rate\n",
        "learner.lr_plot(suggest = True)"
      ],
      "execution_count": 169,
      "outputs": [
        {
          "output_type": "stream",
          "name": "stdout",
          "text": [
            "Three possible suggestions for LR from plot:\n",
            "\tLongest valley (red): 1.85E-05\n",
            "\tMin numerical gradient (purple): 3.56E-05\n",
            "\tMin loss divided by 10 (omitted from plot): 3.77E-05\n"
          ]
        },
        {
          "output_type": "display_data",
          "data": {
            "text/plain": [
              "<Figure size 432x288 with 1 Axes>"
            ],
            "image/png": "[encoded data removed]"
          },
          "metadata": {
            "needs_background": "light"
          }
        }
      ]
    },
    {
      "cell_type": "markdown",
      "metadata": {
        "id": "3rHs8Q6K9v-8"
      },
      "source": [
        "We will now train the model using the autofit method. The method trains the classifier and automatically selects the best performing one preventing underfitting and overfitting of the model."
      ]
    },
    {
      "cell_type": "code",
      "metadata": {
        "colab": {
          "base_uri": "https://localhost:8080/"
        },
        "id": "NQN6C51ucltW",
        "outputId": "a4b30fce-b215-4b00-f3f7-57c988d8a369"
      },
      "source": [
        "# Training using the autofit policy\n",
        "learner.autofit(1.85E-05, early_stopping = 5)"
      ],
      "execution_count": 170,
      "outputs": [
        {
          "output_type": "stream",
          "name": "stdout",
          "text": [
            "reduce_on_plateau automatically enabled at patience=2\n",
            "\n",
            "\n",
            "begin training using triangular learning rate policy with max lr of 1.85e-05...\n",
            "Epoch 1/1024\n",
            "743/743 [==============================] - 23s 24ms/step - loss: 0.0819 - accuracy: 0.9856 - val_loss: 0.0657 - val_accuracy: 0.9857\n",
            "Epoch 2/1024\n",
            "743/743 [==============================] - 18s 24ms/step - loss: 0.0523 - accuracy: 0.9895 - val_loss: 0.0540 - val_accuracy: 0.9874\n",
            "Epoch 3/1024\n",
            "743/743 [==============================] - 18s 23ms/step - loss: 0.0432 - accuracy: 0.9901 - val_loss: 0.0513 - val_accuracy: 0.9865\n",
            "Epoch 4/1024\n",
            "743/743 [==============================] - 18s 23ms/step - loss: 0.0357 - accuracy: 0.9915 - val_loss: 0.0488 - val_accuracy: 0.9857\n",
            "Epoch 5/1024\n",
            "743/743 [==============================] - 19s 24ms/step - loss: 0.0308 - accuracy: 0.9919 - val_loss: 0.0437 - val_accuracy: 0.9892\n",
            "Epoch 6/1024\n",
            "743/743 [==============================] - 18s 23ms/step - loss: 0.0246 - accuracy: 0.9951 - val_loss: 0.0465 - val_accuracy: 0.9883\n",
            "Epoch 7/1024\n",
            "741/743 [============================>.] - ETA: 0s - loss: 0.0212 - accuracy: 0.9948\n",
            "Epoch 00007: Reducing Max LR on Plateau: new max lr will be 9.25e-06 (if not early_stopping).\n",
            "743/743 [==============================] - 18s 23ms/step - loss: 0.0211 - accuracy: 0.9948 - val_loss: 0.0469 - val_accuracy: 0.9848\n",
            "Epoch 8/1024\n",
            "743/743 [==============================] - 18s 23ms/step - loss: 0.0165 - accuracy: 0.9957 - val_loss: 0.0426 - val_accuracy: 0.9865\n",
            "Epoch 9/1024\n",
            "743/743 [==============================] - 18s 23ms/step - loss: 0.0141 - accuracy: 0.9971 - val_loss: 0.0415 - val_accuracy: 0.9865\n",
            "Epoch 10/1024\n",
            "743/743 [==============================] - 18s 23ms/step - loss: 0.0168 - accuracy: 0.9964 - val_loss: 0.0402 - val_accuracy: 0.9874\n",
            "Epoch 11/1024\n",
            "743/743 [==============================] - 19s 24ms/step - loss: 0.0135 - accuracy: 0.9962 - val_loss: 0.0432 - val_accuracy: 0.9874\n",
            "Epoch 12/1024\n",
            "743/743 [==============================] - 18s 23ms/step - loss: 0.0151 - accuracy: 0.9962 - val_loss: 0.0362 - val_accuracy: 0.9892\n",
            "Epoch 13/1024\n",
            "743/743 [==============================] - 20s 26ms/step - loss: 0.0120 - accuracy: 0.9973 - val_loss: 0.0362 - val_accuracy: 0.9910\n",
            "Epoch 14/1024\n",
            "743/743 [==============================] - 19s 24ms/step - loss: 0.0117 - accuracy: 0.9971 - val_loss: 0.0363 - val_accuracy: 0.9910\n",
            "Epoch 15/1024\n",
            "743/743 [==============================] - 18s 24ms/step - loss: 0.0097 - accuracy: 0.9984 - val_loss: 0.0347 - val_accuracy: 0.9919\n",
            "Epoch 16/1024\n",
            "743/743 [==============================] - 20s 25ms/step - loss: 0.0087 - accuracy: 0.9984 - val_loss: 0.0351 - val_accuracy: 0.9919\n",
            "Epoch 17/1024\n",
            "743/743 [==============================] - 19s 24ms/step - loss: 0.0086 - accuracy: 0.9982 - val_loss: 0.0338 - val_accuracy: 0.9919\n",
            "Epoch 18/1024\n",
            "743/743 [==============================] - 18s 23ms/step - loss: 0.0082 - accuracy: 0.9984 - val_loss: 0.0332 - val_accuracy: 0.9928\n",
            "Epoch 19/1024\n",
            "743/743 [==============================] - 18s 23ms/step - loss: 0.0072 - accuracy: 0.9987 - val_loss: 0.0335 - val_accuracy: 0.9928\n",
            "Epoch 20/1024\n",
            "741/743 [============================>.] - ETA: 0s - loss: 0.0074 - accuracy: 0.9982\n",
            "Epoch 00020: Reducing Max LR on Plateau: new max lr will be 4.625e-06 (if not early_stopping).\n",
            "743/743 [==============================] - 18s 23ms/step - loss: 0.0074 - accuracy: 0.9982 - val_loss: 0.0352 - val_accuracy: 0.9910\n",
            "Epoch 21/1024\n",
            "743/743 [==============================] - 18s 24ms/step - loss: 0.0068 - accuracy: 0.9987 - val_loss: 0.0314 - val_accuracy: 0.9946\n",
            "Epoch 22/1024\n",
            "743/743 [==============================] - 18s 24ms/step - loss: 0.0055 - accuracy: 0.9991 - val_loss: 0.0311 - val_accuracy: 0.9946\n",
            "Epoch 23/1024\n",
            "743/743 [==============================] - 18s 24ms/step - loss: 0.0068 - accuracy: 0.9982 - val_loss: 0.0311 - val_accuracy: 0.9937\n",
            "Epoch 24/1024\n",
            "743/743 [==============================] - 18s 24ms/step - loss: 0.0048 - accuracy: 0.9989 - val_loss: 0.0319 - val_accuracy: 0.9946\n",
            "Epoch 25/1024\n",
            "743/743 [==============================] - 18s 23ms/step - loss: 0.0043 - accuracy: 0.9993 - val_loss: 0.0310 - val_accuracy: 0.9946\n",
            "Epoch 26/1024\n",
            "743/743 [==============================] - 18s 23ms/step - loss: 0.0048 - accuracy: 0.9984 - val_loss: 0.0324 - val_accuracy: 0.9946\n",
            "Epoch 27/1024\n",
            "743/743 [==============================] - ETA: 0s - loss: 0.0039 - accuracy: 0.9991\n",
            "Epoch 00027: Reducing Max LR on Plateau: new max lr will be 2.3125e-06 (if not early_stopping).\n",
            "743/743 [==============================] - 18s 24ms/step - loss: 0.0039 - accuracy: 0.9991 - val_loss: 0.0315 - val_accuracy: 0.9946\n",
            "Epoch 28/1024\n",
            "743/743 [==============================] - 18s 23ms/step - loss: 0.0041 - accuracy: 0.9989 - val_loss: 0.0316 - val_accuracy: 0.9946\n",
            "Epoch 29/1024\n",
            "742/743 [============================>.] - ETA: 0s - loss: 0.0051 - accuracy: 0.9991\n",
            "Epoch 00029: Reducing Max LR on Plateau: new max lr will be 1.15625e-06 (if not early_stopping).\n",
            "743/743 [==============================] - 18s 23ms/step - loss: 0.0051 - accuracy: 0.9991 - val_loss: 0.0314 - val_accuracy: 0.9946\n",
            "Epoch 30/1024\n",
            "742/743 [============================>.] - ETA: 0s - loss: 0.0038 - accuracy: 0.9993Restoring model weights from the end of the best epoch: 25.\n",
            "743/743 [==============================] - 19s 24ms/step - loss: 0.0038 - accuracy: 0.9993 - val_loss: 0.0314 - val_accuracy: 0.9946\n",
            "Epoch 30: early stopping\n",
            "Weights from best epoch have been loaded into model.\n"
          ]
        },
        {
          "output_type": "execute_result",
          "data": {
            "text/plain": [
              "<keras.callbacks.History at 0x7fbe3d2fd310>"
            ]
          },
          "metadata": {},
          "execution_count": 170
        }
      ]
    },
    {
      "cell_type": "markdown",
      "metadata": {
        "id": "4Pl1DZiZ6RqM"
      },
      "source": [
        "**Evaluate/Inspect model**"
      ]
    },
    {
      "cell_type": "code",
      "metadata": {
        "colab": {
          "base_uri": "https://localhost:8080/"
        },
        "id": "-nu7TqcNMKB3",
        "outputId": "980789ee-1a8a-4873-c324-7fe15b101220"
      },
      "source": [
        "# Evaluate model\n",
        "learner.validate(class_names = t.get_classes())"
      ],
      "execution_count": 172,
      "outputs": [
        {
          "output_type": "stream",
          "name": "stdout",
          "text": [
            "              precision    recall  f1-score   support\n",
            "\n",
            "         ham       0.99      1.00      1.00       966\n",
            "        spam       0.99      0.97      0.98       149\n",
            "\n",
            "    accuracy                           0.99      1115\n",
            "   macro avg       0.99      0.98      0.99      1115\n",
            "weighted avg       0.99      0.99      0.99      1115\n",
            "\n"
          ]
        },
        {
          "output_type": "execute_result",
          "data": {
            "text/plain": [
              "array([[965,   1],\n",
              "       [  5, 144]])"
            ]
          },
          "metadata": {},
          "execution_count": 172
        }
      ]
    },
    {
      "cell_type": "markdown",
      "metadata": {
        "id": "DfR2RDU7_FTm"
      },
      "source": [
        "Our spam filter with 0.99 precision and 0.97 recall has an F1 score of 0.98. "
      ]
    }
  ]
}