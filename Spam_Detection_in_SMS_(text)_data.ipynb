{
  "nbformat": 4,
  "nbformat_minor": 0,
  "metadata": {
    "colab": {
      "name": "Spam Detection in SMS (text) data.ipynb",
      "provenance": [],
      "collapsed_sections": [],
      "include_colab_link": true
    },
    "kernelspec": {
      "display_name": "Python 3",
      "language": "python",
      "name": "python3"
    },
    "language_info": {
      "codemirror_mode": {
        "name": "ipython",
        "version": 3
      },
      "file_extension": ".py",
      "mimetype": "text/x-python",
      "name": "python",
      "nbconvert_exporter": "python",
      "pygments_lexer": "ipython3",
      "version": "3.7.10"
    },
    "accelerator": "GPU"
  },
  "cells": [
    {
      "cell_type": "markdown",
      "metadata": {
        "id": "view-in-github",
        "colab_type": "text"
      },
      "source": [
        "<a href=\"https://colab.research.google.com/github/KelvinLam05/SMS-Spam-Detection/blob/main/Spam_Detection_in_SMS_(text)_data.ipynb\" target=\"_parent\"><img src=\"https://colab.research.google.com/assets/colab-badge.svg\" alt=\"Open In Colab\"/></a>"
      ]
    },
    {
      "cell_type": "markdown",
      "metadata": {
        "id": "oPrD60JGFxde"
      },
      "source": [
        "**Goal of the project**\n",
        "\n",
        "In this notebook, we will build a simple, fast, and accurate English-language text classification model with minimal effort. More specifically, we will build a model that classifies text messages as either spam or not."
      ]
    },
    {
      "cell_type": "markdown",
      "metadata": {
        "id": "oyGxioZ0HPHi"
      },
      "source": [
        "**Data set information**\n",
        "\n",
        "The dataset contains one set of text messages in English of 1082 messages, tagged acording being non-spam or spam.\n"
      ]
    },
    {
      "cell_type": "markdown",
      "metadata": {
        "id": "NyezY0fcH1cw"
      },
      "source": [
        "**Attribute information**\n",
        "\n",
        "* Message body : Contains the raw text\n",
        "\n",
        "* Label : Contains the label (non-spam or spam) \n"
      ]
    },
    {
      "cell_type": "code",
      "metadata": {
        "id": "cgKGymYmkfn6"
      },
      "source": [
        "# Importing libraries\n",
        "import pandas as pd\n",
        "import numpy as np\n",
        "import ktrain\n",
        "import tensorflow as tf\n",
        "from ktrain import text\n",
        "from sklearn.model_selection import train_test_split"
      ],
      "execution_count": null,
      "outputs": []
    },
    {
      "cell_type": "code",
      "metadata": {
        "id": "QsdinknLvooO"
      },
      "source": [
        "# Load dataset\n",
        "df = pd.read_csv('/content/SMS_text_messages.csv')"
      ],
      "execution_count": null,
      "outputs": []
    },
    {
      "cell_type": "code",
      "metadata": {
        "colab": {
          "base_uri": "https://localhost:8080/",
          "height": 204
        },
        "id": "DP1E6cH-w48j",
        "outputId": "baef0052-8402-4775-e859-c2eff2af9295"
      },
      "source": [
        "# Examine the data\n",
        "df.head()"
      ],
      "execution_count": null,
      "outputs": [
        {
          "output_type": "execute_result",
          "data": {
            "text/html": [
              "<div>\n",
              "<style scoped>\n",
              "    .dataframe tbody tr th:only-of-type {\n",
              "        vertical-align: middle;\n",
              "    }\n",
              "\n",
              "    .dataframe tbody tr th {\n",
              "        vertical-align: top;\n",
              "    }\n",
              "\n",
              "    .dataframe thead th {\n",
              "        text-align: right;\n",
              "    }\n",
              "</style>\n",
              "<table border=\"1\" class=\"dataframe\">\n",
              "  <thead>\n",
              "    <tr style=\"text-align: right;\">\n",
              "      <th></th>\n",
              "      <th>Message_body</th>\n",
              "      <th>Label</th>\n",
              "    </tr>\n",
              "  </thead>\n",
              "  <tbody>\n",
              "    <tr>\n",
              "      <th>0</th>\n",
              "      <td>Rofl. Its true to its name</td>\n",
              "      <td>Non-Spam</td>\n",
              "    </tr>\n",
              "    <tr>\n",
              "      <th>1</th>\n",
              "      <td>The guy did some bitching but I acted like i'd...</td>\n",
              "      <td>Non-Spam</td>\n",
              "    </tr>\n",
              "    <tr>\n",
              "      <th>2</th>\n",
              "      <td>Pity, * was in mood for that. So...any other s...</td>\n",
              "      <td>Non-Spam</td>\n",
              "    </tr>\n",
              "    <tr>\n",
              "      <th>3</th>\n",
              "      <td>Will ü b going to esplanade fr home?</td>\n",
              "      <td>Non-Spam</td>\n",
              "    </tr>\n",
              "    <tr>\n",
              "      <th>4</th>\n",
              "      <td>This is the 2nd time we have tried 2 contact u...</td>\n",
              "      <td>Spam</td>\n",
              "    </tr>\n",
              "  </tbody>\n",
              "</table>\n",
              "</div>"
            ],
            "text/plain": [
              "                                        Message_body     Label\n",
              "0                         Rofl. Its true to its name  Non-Spam\n",
              "1  The guy did some bitching but I acted like i'd...  Non-Spam\n",
              "2  Pity, * was in mood for that. So...any other s...  Non-Spam\n",
              "3               Will ü b going to esplanade fr home?  Non-Spam\n",
              "4  This is the 2nd time we have tried 2 contact u...      Spam"
            ]
          },
          "metadata": {},
          "execution_count": 37
        }
      ]
    },
    {
      "cell_type": "code",
      "metadata": {
        "colab": {
          "base_uri": "https://localhost:8080/"
        },
        "id": "rtyTVl7fxUo9",
        "outputId": "91ec0c1e-6c84-4d81-9c57-1fb619684d46"
      },
      "source": [
        "# Overview of all variables, their datatypes\n",
        "df.info()"
      ],
      "execution_count": null,
      "outputs": [
        {
          "output_type": "stream",
          "name": "stdout",
          "text": [
            "<class 'pandas.core.frame.DataFrame'>\n",
            "RangeIndex: 1082 entries, 0 to 1081\n",
            "Data columns (total 2 columns):\n",
            " #   Column        Non-Null Count  Dtype \n",
            "---  ------        --------------  ----- \n",
            " 0   Message_body  1082 non-null   object\n",
            " 1   Label         1082 non-null   object\n",
            "dtypes: object(2)\n",
            "memory usage: 17.0+ KB\n"
          ]
        }
      ]
    },
    {
      "cell_type": "markdown",
      "metadata": {
        "id": "zjpV-sy6D1Eb"
      },
      "source": [
        "**Preprocessing**"
      ]
    },
    {
      "cell_type": "code",
      "metadata": {
        "id": "9VwzB6pHBYfA"
      },
      "source": [
        "# Rename Pandas columns to lower case\n",
        "df.columns= df.columns.str.lower()"
      ],
      "execution_count": null,
      "outputs": []
    },
    {
      "cell_type": "code",
      "metadata": {
        "colab": {
          "base_uri": "https://localhost:8080/"
        },
        "id": "kgIRHCpKzfTl",
        "outputId": "c062d106-0ca2-4d93-9fe6-06555ab8c731"
      },
      "source": [
        "# Checking for missing values\n",
        "df.isnull().sum().sort_values(ascending = False)"
      ],
      "execution_count": null,
      "outputs": [
        {
          "output_type": "execute_result",
          "data": {
            "text/plain": [
              "label           0\n",
              "message_body    0\n",
              "dtype: int64"
            ]
          },
          "metadata": {},
          "execution_count": 40
        }
      ]
    },
    {
      "cell_type": "code",
      "metadata": {
        "colab": {
          "base_uri": "https://localhost:8080/"
        },
        "id": "OvUESewGw6zy",
        "outputId": "5cae1825-09e3-4c09-e9a2-7cab2ad85349"
      },
      "source": [
        "# Checking the distribution of classes\n",
        "df['label'].value_counts() "
      ],
      "execution_count": null,
      "outputs": [
        {
          "output_type": "execute_result",
          "data": {
            "text/plain": [
              "Non-Spam    884\n",
              "Spam        198\n",
              "Name: label, dtype: int64"
            ]
          },
          "metadata": {},
          "execution_count": 41
        }
      ]
    },
    {
      "cell_type": "markdown",
      "metadata": {
        "id": "l2RoWvUaD1Ei"
      },
      "source": [
        "It is evident, that the dataset is imbalanced."
      ]
    },
    {
      "cell_type": "markdown",
      "metadata": {
        "id": "DF3X5TV09ek-"
      },
      "source": [
        "Let's make a new column to detect how long the text messages are:"
      ]
    },
    {
      "cell_type": "code",
      "metadata": {
        "id": "wMCqCioEfuAH"
      },
      "source": [
        "df['message_length'] = df['message_body'].apply(lambda x: len(x))"
      ],
      "execution_count": null,
      "outputs": []
    },
    {
      "cell_type": "code",
      "metadata": {
        "colab": {
          "base_uri": "https://localhost:8080/"
        },
        "id": "wwYoH4Wdf8IS",
        "outputId": "ec1fa459-c722-480e-be28-66ce945e947e"
      },
      "source": [
        "df['message_length'].describe()"
      ],
      "execution_count": null,
      "outputs": [
        {
          "output_type": "execute_result",
          "data": {
            "text/plain": [
              "count    1082.000000\n",
              "mean       82.894640\n",
              "std        56.432321\n",
              "min         2.000000\n",
              "25%        37.000000\n",
              "50%        66.500000\n",
              "75%       132.000000\n",
              "max       446.000000\n",
              "Name: message_length, dtype: float64"
            ]
          },
          "metadata": {},
          "execution_count": 43
        }
      ]
    },
    {
      "cell_type": "markdown",
      "metadata": {
        "id": "xQlUtmvDB4ND"
      },
      "source": [
        "The maximum length of a text message is 446 characters. "
      ]
    },
    {
      "cell_type": "markdown",
      "metadata": {
        "id": "DQ2HTlJc2QH-"
      },
      "source": [
        "**SMS message length**"
      ]
    },
    {
      "cell_type": "markdown",
      "metadata": {
        "id": "OX0yA9Hg1Gr7"
      },
      "source": [
        "The character limit for a single SMS message is technically 160 characters. However, most modern phones and networks support message concatenation: they split large messages into individual SMS messages (called \"segments\") and then re-create the large message at the receiving end. "
      ]
    },
    {
      "cell_type": "markdown",
      "metadata": {
        "id": "qYO-Ur8OD1Ek"
      },
      "source": [
        "**Split the train and test data**"
      ]
    },
    {
      "cell_type": "code",
      "metadata": {
        "id": "M1UUOR2J03t3"
      },
      "source": [
        "X = df.drop(['label'], axis = 1)"
      ],
      "execution_count": null,
      "outputs": []
    },
    {
      "cell_type": "code",
      "metadata": {
        "id": "4QG-K1qh1aHD"
      },
      "source": [
        "y = df['label']"
      ],
      "execution_count": null,
      "outputs": []
    },
    {
      "cell_type": "code",
      "metadata": {
        "id": "ArMhj_u51l6E"
      },
      "source": [
        "# Isolate X and y variables, and perform train-test split\n",
        "X_train, X_test, y_train, y_test = train_test_split(X, y, test_size = 0.2, random_state = 42, shuffle = True, stratify = y)"
      ],
      "execution_count": null,
      "outputs": []
    },
    {
      "cell_type": "markdown",
      "metadata": {
        "id": "NRB2OHeRAp8f"
      },
      "source": [
        "**Encode target labels**"
      ]
    },
    {
      "cell_type": "code",
      "metadata": {
        "id": "xL3S-4MZEaGy"
      },
      "source": [
        "from sklearn.preprocessing import LabelEncoder"
      ],
      "execution_count": null,
      "outputs": []
    },
    {
      "cell_type": "code",
      "metadata": {
        "id": "uwIF81dUUXgJ"
      },
      "source": [
        "le = LabelEncoder()"
      ],
      "execution_count": null,
      "outputs": []
    },
    {
      "cell_type": "code",
      "metadata": {
        "id": "bwLht09wUaSC"
      },
      "source": [
        "y_train_enc = y_train.copy()"
      ],
      "execution_count": null,
      "outputs": []
    },
    {
      "cell_type": "code",
      "metadata": {
        "id": "ASwcjO98UdgD"
      },
      "source": [
        "y_train_enc = pd.DataFrame(data = y_train_enc, columns = ['label'])"
      ],
      "execution_count": null,
      "outputs": []
    },
    {
      "cell_type": "code",
      "metadata": {
        "id": "vP9kRhxXUk5c"
      },
      "source": [
        "y_train_enc['label_encoded'] = le.fit_transform(y_train_enc['label'].values)"
      ],
      "execution_count": null,
      "outputs": []
    },
    {
      "cell_type": "code",
      "metadata": {
        "colab": {
          "base_uri": "https://localhost:8080/",
          "height": 419
        },
        "id": "z6rFpDHXUuB4",
        "outputId": "cdc1ddaa-9abb-4355-c009-a8c1a081845f"
      },
      "source": [
        "y_train_enc"
      ],
      "execution_count": null,
      "outputs": [
        {
          "output_type": "execute_result",
          "data": {
            "text/html": [
              "<div>\n",
              "<style scoped>\n",
              "    .dataframe tbody tr th:only-of-type {\n",
              "        vertical-align: middle;\n",
              "    }\n",
              "\n",
              "    .dataframe tbody tr th {\n",
              "        vertical-align: top;\n",
              "    }\n",
              "\n",
              "    .dataframe thead th {\n",
              "        text-align: right;\n",
              "    }\n",
              "</style>\n",
              "<table border=\"1\" class=\"dataframe\">\n",
              "  <thead>\n",
              "    <tr style=\"text-align: right;\">\n",
              "      <th></th>\n",
              "      <th>label</th>\n",
              "      <th>label_encoded</th>\n",
              "    </tr>\n",
              "  </thead>\n",
              "  <tbody>\n",
              "    <tr>\n",
              "      <th>95</th>\n",
              "      <td>Non-Spam</td>\n",
              "      <td>0</td>\n",
              "    </tr>\n",
              "    <tr>\n",
              "      <th>1052</th>\n",
              "      <td>Non-Spam</td>\n",
              "      <td>0</td>\n",
              "    </tr>\n",
              "    <tr>\n",
              "      <th>542</th>\n",
              "      <td>Non-Spam</td>\n",
              "      <td>0</td>\n",
              "    </tr>\n",
              "    <tr>\n",
              "      <th>550</th>\n",
              "      <td>Non-Spam</td>\n",
              "      <td>0</td>\n",
              "    </tr>\n",
              "    <tr>\n",
              "      <th>808</th>\n",
              "      <td>Spam</td>\n",
              "      <td>1</td>\n",
              "    </tr>\n",
              "    <tr>\n",
              "      <th>...</th>\n",
              "      <td>...</td>\n",
              "      <td>...</td>\n",
              "    </tr>\n",
              "    <tr>\n",
              "      <th>358</th>\n",
              "      <td>Non-Spam</td>\n",
              "      <td>0</td>\n",
              "    </tr>\n",
              "    <tr>\n",
              "      <th>456</th>\n",
              "      <td>Spam</td>\n",
              "      <td>1</td>\n",
              "    </tr>\n",
              "    <tr>\n",
              "      <th>630</th>\n",
              "      <td>Non-Spam</td>\n",
              "      <td>0</td>\n",
              "    </tr>\n",
              "    <tr>\n",
              "      <th>293</th>\n",
              "      <td>Non-Spam</td>\n",
              "      <td>0</td>\n",
              "    </tr>\n",
              "    <tr>\n",
              "      <th>873</th>\n",
              "      <td>Non-Spam</td>\n",
              "      <td>0</td>\n",
              "    </tr>\n",
              "  </tbody>\n",
              "</table>\n",
              "<p>865 rows × 2 columns</p>\n",
              "</div>"
            ],
            "text/plain": [
              "         label  label_encoded\n",
              "95    Non-Spam              0\n",
              "1052  Non-Spam              0\n",
              "542   Non-Spam              0\n",
              "550   Non-Spam              0\n",
              "808       Spam              1\n",
              "...        ...            ...\n",
              "358   Non-Spam              0\n",
              "456       Spam              1\n",
              "630   Non-Spam              0\n",
              "293   Non-Spam              0\n",
              "873   Non-Spam              0\n",
              "\n",
              "[865 rows x 2 columns]"
            ]
          },
          "metadata": {},
          "execution_count": 52
        }
      ]
    },
    {
      "cell_type": "code",
      "metadata": {
        "colab": {
          "base_uri": "https://localhost:8080/"
        },
        "id": "5iyL9j4vUxJC",
        "outputId": "e2a1fa07-f5af-4684-98d9-30c4bc024272"
      },
      "source": [
        "y_train_enc['label_encoded'].unique()"
      ],
      "execution_count": null,
      "outputs": [
        {
          "output_type": "execute_result",
          "data": {
            "text/plain": [
              "array([0, 1])"
            ]
          },
          "metadata": {},
          "execution_count": 53
        }
      ]
    },
    {
      "cell_type": "code",
      "metadata": {
        "id": "dvqEiVfYU4c1"
      },
      "source": [
        "# Label encode the target variable \n",
        "le.fit(y_train)\n",
        "y_train = le.transform(y_train)\n",
        "y_test = le.transform(y_test)"
      ],
      "execution_count": null,
      "outputs": []
    },
    {
      "cell_type": "markdown",
      "metadata": {
        "id": "kVTE1DBgD1En"
      },
      "source": [
        "**Preprocess data and build a transformer model**"
      ]
    },
    {
      "cell_type": "markdown",
      "metadata": {
        "id": "OLFD83wupUvi"
      },
      "source": [
        "With the Transformer API in ktrain, we can select any Hugging Face transformers model appropriate for our data. Since we are dealing with SMS spam, we will use smaller BERT by the author mrm8488.\n"
      ]
    },
    {
      "cell_type": "code",
      "metadata": {
        "id": "G327Kf0F6Tfo"
      },
      "source": [
        "# Transformer model\n",
        "MODEL_NAME = 'mrm8488/bert-tiny-finetuned-sms-spam-detection' "
      ],
      "execution_count": null,
      "outputs": []
    },
    {
      "cell_type": "markdown",
      "metadata": {
        "id": "V8GHT3aOoG8H"
      },
      "source": [
        "We must supply a class_names argument to the Transformer constructor, which tells ktrain how indices map to class names. In this case, class_names = ['Non-Spam', 'Spam'] because 0 = Non-Spam, 1 = Spam."
      ]
    },
    {
      "cell_type": "code",
      "metadata": {
        "id": "DP0ZFUts6uGT"
      },
      "source": [
        "t = text.Transformer(MODEL_NAME, maxlen = 500, class_names = ['Non-Spam', 'Spam'])"
      ],
      "execution_count": null,
      "outputs": []
    },
    {
      "cell_type": "code",
      "metadata": {
        "id": "75vhWK2HBM-v"
      },
      "source": [
        "# Convert training set into a list\n",
        "X_tr = pd.DataFrame(data = X_train, columns = ['message_body'])\n",
        "X_tr = X_tr['message_body'].tolist()"
      ],
      "execution_count": null,
      "outputs": []
    },
    {
      "cell_type": "code",
      "metadata": {
        "id": "s8ZYvUwDA4P_"
      },
      "source": [
        "y_tr = pd.DataFrame(data = y_train, columns = ['label'])\n",
        "y_tr = y_tr['label'].tolist()"
      ],
      "execution_count": null,
      "outputs": []
    },
    {
      "cell_type": "code",
      "metadata": {
        "id": "IxN_Xif4BUME"
      },
      "source": [
        "# Convert testing set into a list\n",
        "X_te = pd.DataFrame(data = X_test, columns = ['message_body'])\n",
        "X_te = X_te['message_body'].tolist()"
      ],
      "execution_count": null,
      "outputs": []
    },
    {
      "cell_type": "code",
      "metadata": {
        "id": "699H2SeQB1C_"
      },
      "source": [
        "y_te = pd.DataFrame(data = y_test, columns = ['label'])\n",
        "y_te = y_te['label'].tolist()"
      ],
      "execution_count": null,
      "outputs": []
    },
    {
      "cell_type": "code",
      "metadata": {
        "colab": {
          "base_uri": "https://localhost:8080/",
          "height": 238
        },
        "id": "0_6OWVR18tm_",
        "outputId": "0f2e9827-853d-45e7-d0b0-31b08a5898f7"
      },
      "source": [
        "# Preprocessing training and testing set \n",
        "trn = t.preprocess_train(X_tr, y_tr)\n",
        "val = t.preprocess_test(X_te, y_te)"
      ],
      "execution_count": null,
      "outputs": [
        {
          "output_type": "stream",
          "name": "stdout",
          "text": [
            "preprocessing train...\n",
            "language: en\n",
            "train sequence lengths:\n",
            "\tmean : 16\n",
            "\t95percentile : 32\n",
            "\t99percentile : 50\n"
          ]
        },
        {
          "output_type": "display_data",
          "data": {
            "text/html": [
              ""
            ],
            "text/plain": [
              "<IPython.core.display.HTML object>"
            ]
          },
          "metadata": {}
        },
        {
          "output_type": "stream",
          "name": "stdout",
          "text": [
            "Is Multi-Label? False\n",
            "preprocessing test...\n",
            "language: en\n",
            "test sequence lengths:\n",
            "\tmean : 16\n",
            "\t95percentile : 33\n",
            "\t99percentile : 47\n"
          ]
        },
        {
          "output_type": "display_data",
          "data": {
            "text/html": [
              ""
            ],
            "text/plain": [
              "<IPython.core.display.HTML object>"
            ]
          },
          "metadata": {}
        }
      ]
    },
    {
      "cell_type": "code",
      "metadata": {
        "colab": {
          "base_uri": "https://localhost:8080/"
        },
        "id": "oQc2kNdTCXyq",
        "outputId": "d5f5c56b-76ec-4d15-ff32-b979f93ee0bc"
      },
      "source": [
        "# Model classifier\n",
        "model = t.get_classifier()"
      ],
      "execution_count": null,
      "outputs": [
        {
          "output_type": "stream",
          "name": "stderr",
          "text": [
            "404 Client Error: Not Found for url: https://huggingface.co/mrm8488/bert-tiny-finetuned-sms-spam-detection/resolve/main/tf_model.h5\n",
            "/usr/local/lib/python3.7/dist-packages/ktrain/text/preprocessor.py:1067: UserWarning: Could not find Tensorflow version of model.  Attempting to download/load PyTorch version as TensorFlow model using from_pt=True. You will need PyTorch installed for this.\n",
            "  warnings.warn('Could not find Tensorflow version of model.  Attempting to download/load PyTorch version as TensorFlow model using from_pt=True. ' +\\\n"
          ]
        }
      ]
    },
    {
      "cell_type": "code",
      "metadata": {
        "id": "mbgyV06-ChOl"
      },
      "source": [
        "# Wrap model and data in ktrain.Learner object\n",
        "learner = ktrain.get_learner(model, train_data = trn, val_data = val, batch_size = 6)"
      ],
      "execution_count": null,
      "outputs": []
    },
    {
      "cell_type": "markdown",
      "metadata": {
        "id": "vB6pQYl7zweQ"
      },
      "source": [
        "**Estimate a good learning rate**"
      ]
    },
    {
      "cell_type": "markdown",
      "metadata": {
        "id": "YuuHhiyN9Sg-"
      },
      "source": [
        "To train the model, we will first find the optimal learning rate that suits well to our problem. ktrain provides a very good method named lr_find which trains the model at different learning rates and plots loss of the model as the learning rate is increased."
      ]
    },
    {
      "cell_type": "code",
      "metadata": {
        "id": "Tx_I77721Hp0",
        "colab": {
          "base_uri": "https://localhost:8080/"
        },
        "outputId": "2137abba-2b02-4ab6-ab39-20eed1c6dd98"
      },
      "source": [
        "# Briefly simulate training to find good learning rate\n",
        "learner.lr_find(max_epochs = 1) "
      ],
      "execution_count": null,
      "outputs": [
        {
          "output_type": "stream",
          "name": "stdout",
          "text": [
            "simulating training for different learning rates... this may take a few moments...\n",
            "144/144 [==============================] - 10s 41ms/step - loss: 1.1120 - accuracy: 0.8919\n",
            "\n",
            "\n",
            "done.\n",
            "Please invoke the Learner.lr_plot() method to visually inspect the loss plot to help identify the maximal learning rate associated with falling loss.\n"
          ]
        }
      ]
    },
    {
      "cell_type": "markdown",
      "metadata": {
        "id": "3ZS873v69YnG"
      },
      "source": [
        "The learning rate plot can be observed by calling the following method:"
      ]
    },
    {
      "cell_type": "code",
      "metadata": {
        "id": "77isXmb_UrJC",
        "colab": {
          "base_uri": "https://localhost:8080/",
          "height": 283
        },
        "outputId": "329cd399-e93c-43c0-9672-5123164ef258"
      },
      "source": [
        "# Visually identify best learning rate\n",
        "learner.lr_plot()"
      ],
      "execution_count": null,
      "outputs": [
        {
          "output_type": "display_data",
          "data": {
            "image/png": "[encoded data removed]",
            "text/plain": [
              "<Figure size 432x288 with 1 Axes>"
            ]
          },
          "metadata": {
            "needs_background": "light"
          }
        }
      ]
    },
    {
      "cell_type": "markdown",
      "metadata": {
        "id": "8pwMcYvz9hJU"
      },
      "source": [
        "We can observe that the classifier provides minimal loss when the learning rate is 1e-6."
      ]
    },
    {
      "cell_type": "markdown",
      "metadata": {
        "id": "3rHs8Q6K9v-8"
      },
      "source": [
        "We will now train the model using the autofit method. The method trains the classifier and automatically selects the best performing one preventing underfitting and overfitting of the model."
      ]
    },
    {
      "cell_type": "code",
      "metadata": {
        "colab": {
          "base_uri": "https://localhost:8080/"
        },
        "id": "NQN6C51ucltW",
        "outputId": "50b3ab1f-751a-4d7b-cb48-3b92864d069b"
      },
      "source": [
        "# Training using the 1cycle policy\n",
        "learner.autofit(1e-6, early_stopping = 5)"
      ],
      "execution_count": null,
      "outputs": [
        {
          "output_type": "stream",
          "name": "stdout",
          "text": [
            "reduce_on_plateau automatically enabled at patience=2\n",
            "\n",
            "\n",
            "begin training using triangular learning rate policy with max lr of 1e-06...\n",
            "Epoch 1/1024\n",
            "145/145 [==============================] - 12s 54ms/step - loss: 0.1263 - accuracy: 0.9780 - val_loss: 0.0792 - val_accuracy: 0.9954\n",
            "Epoch 2/1024\n",
            "145/145 [==============================] - 7s 48ms/step - loss: 0.1275 - accuracy: 0.9803 - val_loss: 0.0779 - val_accuracy: 0.9954\n",
            "Epoch 3/1024\n",
            "145/145 [==============================] - 7s 48ms/step - loss: 0.1208 - accuracy: 0.9780 - val_loss: 0.0767 - val_accuracy: 0.9954\n",
            "Epoch 4/1024\n",
            "145/145 [==============================] - 7s 48ms/step - loss: 0.1242 - accuracy: 0.9746 - val_loss: 0.0755 - val_accuracy: 0.9954\n",
            "Epoch 5/1024\n",
            "145/145 [==============================] - 7s 48ms/step - loss: 0.1183 - accuracy: 0.9792 - val_loss: 0.0744 - val_accuracy: 0.9954\n",
            "Epoch 6/1024\n",
            "145/145 [==============================] - 7s 47ms/step - loss: 0.1157 - accuracy: 0.9815 - val_loss: 0.0732 - val_accuracy: 0.9954\n",
            "Epoch 7/1024\n",
            "145/145 [==============================] - 7s 48ms/step - loss: 0.1182 - accuracy: 0.9780 - val_loss: 0.0722 - val_accuracy: 0.9954\n",
            "Epoch 8/1024\n",
            "145/145 [==============================] - 7s 48ms/step - loss: 0.1133 - accuracy: 0.9803 - val_loss: 0.0712 - val_accuracy: 0.9954\n",
            "Epoch 9/1024\n",
            "145/145 [==============================] - 7s 47ms/step - loss: 0.1126 - accuracy: 0.9827 - val_loss: 0.0703 - val_accuracy: 0.9954\n",
            "Epoch 10/1024\n",
            "145/145 [==============================] - 7s 47ms/step - loss: 0.1125 - accuracy: 0.9780 - val_loss: 0.0694 - val_accuracy: 1.0000\n",
            "Epoch 11/1024\n",
            "145/145 [==============================] - 7s 47ms/step - loss: 0.1108 - accuracy: 0.9792 - val_loss: 0.0684 - val_accuracy: 1.0000\n",
            "Epoch 12/1024\n",
            "145/145 [==============================] - 7s 47ms/step - loss: 0.1095 - accuracy: 0.9803 - val_loss: 0.0672 - val_accuracy: 1.0000\n",
            "Epoch 13/1024\n",
            "145/145 [==============================] - 7s 48ms/step - loss: 0.1089 - accuracy: 0.9827 - val_loss: 0.0663 - val_accuracy: 1.0000\n",
            "Epoch 14/1024\n",
            "145/145 [==============================] - 7s 48ms/step - loss: 0.1111 - accuracy: 0.9815 - val_loss: 0.0652 - val_accuracy: 1.0000\n",
            "Epoch 15/1024\n",
            "145/145 [==============================] - 7s 47ms/step - loss: 0.1029 - accuracy: 0.9838 - val_loss: 0.0643 - val_accuracy: 1.0000\n",
            "Epoch 16/1024\n",
            "145/145 [==============================] - 7s 47ms/step - loss: 0.1044 - accuracy: 0.9827 - val_loss: 0.0633 - val_accuracy: 1.0000\n",
            "Epoch 17/1024\n",
            "145/145 [==============================] - 7s 47ms/step - loss: 0.1062 - accuracy: 0.9827 - val_loss: 0.0624 - val_accuracy: 1.0000\n",
            "Epoch 18/1024\n",
            "145/145 [==============================] - 7s 47ms/step - loss: 0.1032 - accuracy: 0.9803 - val_loss: 0.0615 - val_accuracy: 1.0000\n",
            "Epoch 19/1024\n",
            "145/145 [==============================] - 7s 47ms/step - loss: 0.1026 - accuracy: 0.9838 - val_loss: 0.0609 - val_accuracy: 1.0000\n",
            "Epoch 20/1024\n",
            "145/145 [==============================] - 7s 48ms/step - loss: 0.0975 - accuracy: 0.9803 - val_loss: 0.0602 - val_accuracy: 1.0000\n",
            "Epoch 21/1024\n",
            "145/145 [==============================] - 7s 48ms/step - loss: 0.1004 - accuracy: 0.9803 - val_loss: 0.0594 - val_accuracy: 1.0000\n",
            "Epoch 22/1024\n",
            "145/145 [==============================] - 7s 48ms/step - loss: 0.0984 - accuracy: 0.9815 - val_loss: 0.0590 - val_accuracy: 1.0000\n",
            "Epoch 23/1024\n",
            "145/145 [==============================] - 7s 47ms/step - loss: 0.1039 - accuracy: 0.9780 - val_loss: 0.0580 - val_accuracy: 1.0000\n",
            "Epoch 24/1024\n",
            "145/145 [==============================] - 7s 48ms/step - loss: 0.0994 - accuracy: 0.9792 - val_loss: 0.0571 - val_accuracy: 1.0000\n",
            "Epoch 25/1024\n",
            "145/145 [==============================] - 7s 48ms/step - loss: 0.0985 - accuracy: 0.9769 - val_loss: 0.0563 - val_accuracy: 1.0000\n",
            "Epoch 26/1024\n",
            "145/145 [==============================] - 7s 48ms/step - loss: 0.0955 - accuracy: 0.9815 - val_loss: 0.0555 - val_accuracy: 1.0000\n",
            "Epoch 27/1024\n",
            "145/145 [==============================] - 7s 48ms/step - loss: 0.0963 - accuracy: 0.9803 - val_loss: 0.0547 - val_accuracy: 1.0000\n",
            "Epoch 28/1024\n",
            "145/145 [==============================] - 7s 47ms/step - loss: 0.0907 - accuracy: 0.9861 - val_loss: 0.0540 - val_accuracy: 1.0000\n",
            "Epoch 29/1024\n",
            "145/145 [==============================] - 7s 47ms/step - loss: 0.0940 - accuracy: 0.9827 - val_loss: 0.0533 - val_accuracy: 1.0000\n",
            "Epoch 30/1024\n",
            "145/145 [==============================] - 7s 48ms/step - loss: 0.0953 - accuracy: 0.9815 - val_loss: 0.0526 - val_accuracy: 1.0000\n",
            "Epoch 31/1024\n",
            "145/145 [==============================] - 7s 48ms/step - loss: 0.0937 - accuracy: 0.9803 - val_loss: 0.0522 - val_accuracy: 1.0000\n",
            "Epoch 32/1024\n",
            "145/145 [==============================] - 7s 47ms/step - loss: 0.0912 - accuracy: 0.9850 - val_loss: 0.0515 - val_accuracy: 1.0000\n",
            "Epoch 33/1024\n",
            "145/145 [==============================] - 7s 47ms/step - loss: 0.0896 - accuracy: 0.9838 - val_loss: 0.0509 - val_accuracy: 1.0000\n",
            "Epoch 34/1024\n",
            "145/145 [==============================] - 7s 48ms/step - loss: 0.0897 - accuracy: 0.9827 - val_loss: 0.0504 - val_accuracy: 1.0000\n",
            "Epoch 35/1024\n",
            "145/145 [==============================] - 7s 48ms/step - loss: 0.0859 - accuracy: 0.9861 - val_loss: 0.0495 - val_accuracy: 1.0000\n",
            "Epoch 36/1024\n",
            "145/145 [==============================] - 7s 47ms/step - loss: 0.0850 - accuracy: 0.9827 - val_loss: 0.0486 - val_accuracy: 1.0000\n",
            "Epoch 37/1024\n",
            "145/145 [==============================] - 7s 48ms/step - loss: 0.0889 - accuracy: 0.9827 - val_loss: 0.0482 - val_accuracy: 1.0000\n",
            "Epoch 38/1024\n",
            "145/145 [==============================] - 7s 48ms/step - loss: 0.0896 - accuracy: 0.9827 - val_loss: 0.0480 - val_accuracy: 1.0000\n",
            "Epoch 39/1024\n",
            "145/145 [==============================] - 7s 48ms/step - loss: 0.0846 - accuracy: 0.9861 - val_loss: 0.0475 - val_accuracy: 1.0000\n",
            "Epoch 40/1024\n",
            "145/145 [==============================] - 7s 47ms/step - loss: 0.0868 - accuracy: 0.9792 - val_loss: 0.0470 - val_accuracy: 1.0000\n",
            "Epoch 41/1024\n",
            "145/145 [==============================] - 7s 47ms/step - loss: 0.0817 - accuracy: 0.9896 - val_loss: 0.0466 - val_accuracy: 1.0000\n",
            "Epoch 42/1024\n",
            "145/145 [==============================] - 7s 47ms/step - loss: 0.0816 - accuracy: 0.9838 - val_loss: 0.0462 - val_accuracy: 1.0000\n",
            "Epoch 43/1024\n",
            "145/145 [==============================] - 7s 47ms/step - loss: 0.0798 - accuracy: 0.9873 - val_loss: 0.0459 - val_accuracy: 1.0000\n",
            "Epoch 44/1024\n",
            "145/145 [==============================] - 7s 47ms/step - loss: 0.0816 - accuracy: 0.9850 - val_loss: 0.0453 - val_accuracy: 1.0000\n",
            "Epoch 45/1024\n",
            "145/145 [==============================] - 7s 47ms/step - loss: 0.0803 - accuracy: 0.9873 - val_loss: 0.0447 - val_accuracy: 1.0000\n",
            "Epoch 46/1024\n",
            "145/145 [==============================] - 7s 48ms/step - loss: 0.0848 - accuracy: 0.9827 - val_loss: 0.0444 - val_accuracy: 1.0000\n",
            "Epoch 47/1024\n",
            "145/145 [==============================] - 7s 48ms/step - loss: 0.0764 - accuracy: 0.9873 - val_loss: 0.0440 - val_accuracy: 1.0000\n",
            "Epoch 48/1024\n",
            "145/145 [==============================] - 7s 48ms/step - loss: 0.0774 - accuracy: 0.9850 - val_loss: 0.0440 - val_accuracy: 1.0000\n",
            "Epoch 49/1024\n",
            "145/145 [==============================] - 7s 48ms/step - loss: 0.0777 - accuracy: 0.9873 - val_loss: 0.0430 - val_accuracy: 1.0000\n",
            "Epoch 50/1024\n",
            "145/145 [==============================] - 7s 48ms/step - loss: 0.0757 - accuracy: 0.9873 - val_loss: 0.0427 - val_accuracy: 1.0000\n",
            "Epoch 51/1024\n",
            "145/145 [==============================] - 7s 49ms/step - loss: 0.0780 - accuracy: 0.9861 - val_loss: 0.0424 - val_accuracy: 1.0000\n",
            "Epoch 52/1024\n",
            "145/145 [==============================] - 7s 48ms/step - loss: 0.0750 - accuracy: 0.9861 - val_loss: 0.0418 - val_accuracy: 1.0000\n",
            "Epoch 53/1024\n",
            "145/145 [==============================] - 7s 48ms/step - loss: 0.0718 - accuracy: 0.9873 - val_loss: 0.0413 - val_accuracy: 1.0000\n",
            "Epoch 54/1024\n",
            "145/145 [==============================] - 7s 49ms/step - loss: 0.0787 - accuracy: 0.9850 - val_loss: 0.0405 - val_accuracy: 1.0000\n",
            "Epoch 55/1024\n",
            "145/145 [==============================] - 7s 48ms/step - loss: 0.0739 - accuracy: 0.9873 - val_loss: 0.0401 - val_accuracy: 1.0000\n",
            "Epoch 56/1024\n",
            "145/145 [==============================] - 7s 48ms/step - loss: 0.0775 - accuracy: 0.9850 - val_loss: 0.0396 - val_accuracy: 1.0000\n",
            "Epoch 57/1024\n",
            "145/145 [==============================] - 7s 48ms/step - loss: 0.0766 - accuracy: 0.9815 - val_loss: 0.0394 - val_accuracy: 1.0000\n",
            "Epoch 58/1024\n",
            "145/145 [==============================] - 7s 48ms/step - loss: 0.0739 - accuracy: 0.9850 - val_loss: 0.0391 - val_accuracy: 1.0000\n",
            "Epoch 59/1024\n",
            "145/145 [==============================] - 7s 49ms/step - loss: 0.0664 - accuracy: 0.9884 - val_loss: 0.0392 - val_accuracy: 1.0000\n",
            "Epoch 60/1024\n",
            "145/145 [==============================] - ETA: 0s - loss: 0.0745 - accuracy: 0.9850\n",
            "Epoch 00060: Reducing Max LR on Plateau: new max lr will be 5e-07 (if not early_stopping).\n",
            "145/145 [==============================] - 7s 48ms/step - loss: 0.0745 - accuracy: 0.9850 - val_loss: 0.0397 - val_accuracy: 1.0000\n",
            "Epoch 61/1024\n",
            "145/145 [==============================] - 7s 48ms/step - loss: 0.0686 - accuracy: 0.9861 - val_loss: 0.0395 - val_accuracy: 1.0000\n",
            "Epoch 62/1024\n",
            "144/145 [============================>.] - ETA: 0s - loss: 0.0711 - accuracy: 0.9873\n",
            "Epoch 00062: Reducing Max LR on Plateau: new max lr will be 2.5e-07 (if not early_stopping).\n",
            "145/145 [==============================] - 7s 49ms/step - loss: 0.0711 - accuracy: 0.9873 - val_loss: 0.0392 - val_accuracy: 1.0000\n",
            "Epoch 63/1024\n",
            "145/145 [==============================] - ETA: 0s - loss: 0.0679 - accuracy: 0.9884Restoring model weights from the end of the best epoch: 58.\n",
            "145/145 [==============================] - 7s 49ms/step - loss: 0.0679 - accuracy: 0.9884 - val_loss: 0.0392 - val_accuracy: 1.0000\n",
            "Epoch 00063: early stopping\n",
            "Weights from best epoch have been loaded into model.\n"
          ]
        },
        {
          "output_type": "execute_result",
          "data": {
            "text/plain": [
              "<keras.callbacks.History at 0x7f8056b9ad90>"
            ]
          },
          "metadata": {},
          "execution_count": 66
        }
      ]
    },
    {
      "cell_type": "markdown",
      "metadata": {
        "id": "4Pl1DZiZ6RqM"
      },
      "source": [
        "**Evaluate/Inspect model**"
      ]
    },
    {
      "cell_type": "markdown",
      "metadata": {
        "id": "KF73vaMt-vIK"
      },
      "source": [
        "Macro-average is preferable if there is a class imbalance problem.\n",
        "\n",
        "With macro-average, a classifier is encouraged to try to recognize every class correctly. Since it is usually harder for the classifier to identify the small classes, this often makes it sacrifice some performance on the large classes.\n",
        "\n",
        "Whereas with micro-average, a classifier is encouraged to focus on the largest classes, possibly at the expense of the smallest ones."
      ]
    },
    {
      "cell_type": "code",
      "metadata": {
        "colab": {
          "base_uri": "https://localhost:8080/"
        },
        "id": "-nu7TqcNMKB3",
        "outputId": "217a6de5-6c87-4790-dc41-a052efd5ada7"
      },
      "source": [
        "# Evaluate model\n",
        "learner.validate(class_names = t.get_classes())"
      ],
      "execution_count": null,
      "outputs": [
        {
          "output_type": "stream",
          "name": "stdout",
          "text": [
            "              precision    recall  f1-score   support\n",
            "\n",
            "    Non-Spam       1.00      1.00      1.00       177\n",
            "        Spam       1.00      1.00      1.00        40\n",
            "\n",
            "    accuracy                           1.00       217\n",
            "   macro avg       1.00      1.00      1.00       217\n",
            "weighted avg       1.00      1.00      1.00       217\n",
            "\n"
          ]
        },
        {
          "output_type": "execute_result",
          "data": {
            "text/plain": [
              "array([[177,   0],\n",
              "       [  0,  40]])"
            ]
          },
          "metadata": {},
          "execution_count": 67
        }
      ]
    },
    {
      "cell_type": "markdown",
      "metadata": {
        "id": "DfR2RDU7_FTm"
      },
      "source": [
        "We are able to achieve a macro-averaged accuracy of 100%."
      ]
    },
    {
      "cell_type": "markdown",
      "metadata": {
        "id": "Cq8lbk1OD1E3"
      },
      "source": [
        "**Preprocess data and build a transformer model**"
      ]
    },
    {
      "cell_type": "code",
      "metadata": {
        "id": "W07iQqyTNMSA"
      },
      "source": [
        "# Transformer model\n",
        "MODEL_NAME = 'sureshs/distilbert-large-sms-spam'  "
      ],
      "execution_count": null,
      "outputs": []
    },
    {
      "cell_type": "code",
      "metadata": {
        "id": "_nKckZQYiZwu"
      },
      "source": [
        "t = text.Transformer(MODEL_NAME, maxlen = 500, class_names = ['Non-Spam', 'Spam'])"
      ],
      "execution_count": null,
      "outputs": []
    },
    {
      "cell_type": "code",
      "metadata": {
        "id": "XbcNMWZQiffU"
      },
      "source": [
        "# Convert training set into a list\n",
        "X_tr = pd.DataFrame(data = X_train, columns = ['message_body'])\n",
        "X_tr = X_tr['message_body'].tolist()"
      ],
      "execution_count": null,
      "outputs": []
    },
    {
      "cell_type": "code",
      "metadata": {
        "id": "WExcFF3ui_uG"
      },
      "source": [
        "y_tr = pd.DataFrame(data = y_train, columns = ['label'])\n",
        "y_tr = y_tr['label'].tolist()"
      ],
      "execution_count": null,
      "outputs": []
    },
    {
      "cell_type": "code",
      "metadata": {
        "id": "OONAmt5ljFV7"
      },
      "source": [
        "# Convert testing set into a list\n",
        "X_te = pd.DataFrame(data = X_test, columns = ['message_body'])\n",
        "X_te = X_te['message_body'].tolist()"
      ],
      "execution_count": null,
      "outputs": []
    },
    {
      "cell_type": "code",
      "metadata": {
        "id": "LofPT8prjH6b"
      },
      "source": [
        "y_te = pd.DataFrame(data = y_test, columns = ['label'])\n",
        "y_te = y_te['label'].tolist()"
      ],
      "execution_count": null,
      "outputs": []
    },
    {
      "cell_type": "code",
      "metadata": {
        "colab": {
          "base_uri": "https://localhost:8080/",
          "height": 238
        },
        "id": "okn4_4ZNjL9N",
        "outputId": "4aa4a40a-36b6-4b24-990f-77465817fcb0"
      },
      "source": [
        "# Preprocessing training and testing set \n",
        "trn = t.preprocess_train(X_tr, y_tr)\n",
        "val = t.preprocess_test(X_te, y_te)"
      ],
      "execution_count": null,
      "outputs": [
        {
          "output_type": "stream",
          "name": "stdout",
          "text": [
            "preprocessing train...\n",
            "language: en\n",
            "train sequence lengths:\n",
            "\tmean : 16\n",
            "\t95percentile : 32\n",
            "\t99percentile : 50\n"
          ]
        },
        {
          "output_type": "display_data",
          "data": {
            "text/html": [
              ""
            ],
            "text/plain": [
              "<IPython.core.display.HTML object>"
            ]
          },
          "metadata": {}
        },
        {
          "output_type": "stream",
          "name": "stdout",
          "text": [
            "Is Multi-Label? False\n",
            "preprocessing test...\n",
            "language: en\n",
            "test sequence lengths:\n",
            "\tmean : 16\n",
            "\t95percentile : 33\n",
            "\t99percentile : 47\n"
          ]
        },
        {
          "output_type": "display_data",
          "data": {
            "text/html": [
              ""
            ],
            "text/plain": [
              "<IPython.core.display.HTML object>"
            ]
          },
          "metadata": {}
        }
      ]
    },
    {
      "cell_type": "code",
      "metadata": {
        "id": "Te_mLjE0jQ0I",
        "colab": {
          "base_uri": "https://localhost:8080/"
        },
        "outputId": "a3275b7e-beea-466b-e21a-e04bb91c59e0"
      },
      "source": [
        "# Model classifier\n",
        "model = t.get_classifier()"
      ],
      "execution_count": null,
      "outputs": [
        {
          "output_type": "stream",
          "name": "stderr",
          "text": [
            "404 Client Error: Not Found for url: https://huggingface.co/sureshs/distilbert-large-sms-spam/resolve/main/tf_model.h5\n",
            "/usr/local/lib/python3.7/dist-packages/ktrain/text/preprocessor.py:1067: UserWarning: Could not find Tensorflow version of model.  Attempting to download/load PyTorch version as TensorFlow model using from_pt=True. You will need PyTorch installed for this.\n",
            "  warnings.warn('Could not find Tensorflow version of model.  Attempting to download/load PyTorch version as TensorFlow model using from_pt=True. ' +\\\n"
          ]
        }
      ]
    },
    {
      "cell_type": "code",
      "metadata": {
        "id": "bvPweZcSjV3X"
      },
      "source": [
        "# Wrap model and data in ktrain.Learner object\n",
        "learner = ktrain.get_learner(model, train_data = trn, val_data = val, batch_size = 6)"
      ],
      "execution_count": null,
      "outputs": []
    },
    {
      "cell_type": "markdown",
      "metadata": {
        "id": "pYI0B5AHz0a-"
      },
      "source": [
        "**Estimate a good learning rate**"
      ]
    },
    {
      "cell_type": "code",
      "metadata": {
        "colab": {
          "base_uri": "https://localhost:8080/"
        },
        "id": "smhoqnbDUrJL",
        "outputId": "215e38d0-aeaf-4929-e1ca-ae236fe71a90"
      },
      "source": [
        "# Briefly simulate training to find good learning rate\n",
        "learner.lr_find(max_epochs = 1) "
      ],
      "execution_count": null,
      "outputs": [
        {
          "output_type": "stream",
          "name": "stdout",
          "text": [
            "simulating training for different learning rates... this may take a few moments...\n",
            "144/144 [==============================] - 63s 364ms/step - loss: 0.1241 - accuracy: 0.9912\n",
            "\n",
            "\n",
            "done.\n",
            "Please invoke the Learner.lr_plot() method to visually inspect the loss plot to help identify the maximal learning rate associated with falling loss.\n"
          ]
        }
      ]
    },
    {
      "cell_type": "code",
      "metadata": {
        "colab": {
          "base_uri": "https://localhost:8080/",
          "height": 283
        },
        "id": "ETrTzKGvUrJL",
        "outputId": "badfb017-7d99-4ef3-8b86-515d1e435bc5"
      },
      "source": [
        "# Visually identify best learning rate\n",
        "learner.lr_plot()"
      ],
      "execution_count": null,
      "outputs": [
        {
          "output_type": "display_data",
          "data": {
            "image/png": "[encoded data removed]",
            "text/plain": [
              "<Figure size 432x288 with 1 Axes>"
            ]
          },
          "metadata": {
            "needs_background": "light"
          }
        }
      ]
    },
    {
      "cell_type": "code",
      "metadata": {
        "colab": {
          "base_uri": "https://localhost:8080/"
        },
        "id": "aFCaTP4PUrJM",
        "outputId": "03910ea1-523c-4ba3-85d0-ee8b88400312"
      },
      "source": [
        "# Training using the 1cycle policy\n",
        "learner.autofit(1e-3, early_stopping = 5)"
      ],
      "execution_count": null,
      "outputs": [
        {
          "output_type": "stream",
          "name": "stdout",
          "text": [
            "reduce_on_plateau automatically enabled at patience=2\n",
            "\n",
            "\n",
            "begin training using triangular learning rate policy with max lr of 0.001...\n",
            "Epoch 1/1024\n",
            "145/145 [==============================] - 115s 724ms/step - loss: 0.1590 - accuracy: 0.9607 - val_loss: 0.1133 - val_accuracy: 0.9677\n",
            "Epoch 2/1024\n",
            "145/145 [==============================] - 102s 703ms/step - loss: 0.2458 - accuracy: 0.8994 - val_loss: 0.2194 - val_accuracy: 0.8157\n",
            "Epoch 3/1024\n",
            "145/145 [==============================] - ETA: 0s - loss: 0.3044 - accuracy: 0.8058\n",
            "Epoch 00003: Reducing Max LR on Plateau: new max lr will be 0.0005 (if not early_stopping).\n",
            "145/145 [==============================] - 102s 703ms/step - loss: 0.3044 - accuracy: 0.8058 - val_loss: 0.3037 - val_accuracy: 0.8157\n",
            "Epoch 4/1024\n",
            "145/145 [==============================] - 102s 703ms/step - loss: 0.3927 - accuracy: 0.8012 - val_loss: 0.4781 - val_accuracy: 0.8157\n",
            "Epoch 5/1024\n",
            "145/145 [==============================] - ETA: 0s - loss: 0.4829 - accuracy: 0.8173\n",
            "Epoch 00005: Reducing Max LR on Plateau: new max lr will be 0.00025 (if not early_stopping).\n",
            "145/145 [==============================] - 102s 703ms/step - loss: 0.4829 - accuracy: 0.8173 - val_loss: 0.4804 - val_accuracy: 0.8157\n",
            "Epoch 6/1024\n",
            "145/145 [==============================] - ETA: 0s - loss: 0.4741 - accuracy: 0.8173Restoring model weights from the end of the best epoch: 1.\n",
            "145/145 [==============================] - 102s 701ms/step - loss: 0.4741 - accuracy: 0.8173 - val_loss: 0.4851 - val_accuracy: 0.8157\n",
            "Epoch 00006: early stopping\n",
            "Weights from best epoch have been loaded into model.\n"
          ]
        },
        {
          "output_type": "execute_result",
          "data": {
            "text/plain": [
              "<keras.callbacks.History at 0x7f657a4b5290>"
            ]
          },
          "metadata": {},
          "execution_count": 72
        }
      ]
    },
    {
      "cell_type": "markdown",
      "metadata": {
        "id": "8BzMuRnk6UKh"
      },
      "source": [
        "**Evaluate/Inspect model**"
      ]
    },
    {
      "cell_type": "code",
      "metadata": {
        "id": "ED0ncKEijagD",
        "colab": {
          "base_uri": "https://localhost:8080/"
        },
        "outputId": "5219ad4a-6d24-4184-9c30-dd327971d773"
      },
      "source": [
        "# Evaluate model\n",
        "learner.validate(class_names = t.get_classes())"
      ],
      "execution_count": null,
      "outputs": [
        {
          "output_type": "stream",
          "name": "stdout",
          "text": [
            "              precision    recall  f1-score   support\n",
            "\n",
            "    Non-Spam       1.00      0.96      0.98       177\n",
            "        Spam       0.85      1.00      0.92        40\n",
            "\n",
            "    accuracy                           0.97       217\n",
            "   macro avg       0.93      0.98      0.95       217\n",
            "weighted avg       0.97      0.97      0.97       217\n",
            "\n"
          ]
        },
        {
          "output_type": "execute_result",
          "data": {
            "text/plain": [
              "array([[170,   7],\n",
              "       [  0,  40]])"
            ]
          },
          "metadata": {},
          "execution_count": 73
        }
      ]
    },
    {
      "cell_type": "markdown",
      "metadata": {
        "id": "iUZLY6qOD1FF"
      },
      "source": [
        "We are able to achieve a macro-averaged accuracy of 95%."
      ]
    },
    {
      "cell_type": "markdown",
      "metadata": {
        "id": "3nE1fV7wCyc0"
      },
      "source": [
        "**Conclusion**"
      ]
    },
    {
      "cell_type": "markdown",
      "metadata": {
        "id": "nwhO2GBiD1Fg"
      },
      "source": [
        "The best result among all the two models we trained belongs to smaller BERT. We were able to achieve a macro-averaged accuracy of 100% with a good f1-score for each of the predicted classes."
      ]
    }
  ]
}